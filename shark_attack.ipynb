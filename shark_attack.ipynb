{
 "cells": [
  {
   "cell_type": "code",
   "execution_count": 1,
   "id": "e13c4e7c",
   "metadata": {
    "ExecuteTime": {
     "end_time": "2022-08-22T19:10:21.266529Z",
     "start_time": "2022-08-22T19:10:20.628306Z"
    }
   },
   "outputs": [],
   "source": [
    "import pandas as pd\n",
    "import re"
   ]
  },
  {
   "cell_type": "code",
   "execution_count": 2,
   "id": "35beb5de",
   "metadata": {
    "ExecuteTime": {
     "end_time": "2022-08-22T19:10:24.296848Z",
     "start_time": "2022-08-22T19:10:24.193993Z"
    }
   },
   "outputs": [],
   "source": [
    "df_sharks = pd.read_csv('attacks.csv', encoding = \"cp1252\")\n",
    "df_sharks = df_sharks.drop(columns=['Unnamed: 22', 'Unnamed: 23'])"
   ]
  },
  {
   "cell_type": "code",
   "execution_count": 3,
   "id": "c890d062",
   "metadata": {
    "ExecuteTime": {
     "end_time": "2022-08-22T19:10:26.544279Z",
     "start_time": "2022-08-22T19:10:26.473419Z"
    }
   },
   "outputs": [
    {
     "name": "stdout",
     "output_type": "stream",
     "text": [
      "<class 'pandas.core.frame.DataFrame'>\n",
      "Int64Index: 19421 entries, 6302 to 25722\n",
      "Data columns (total 22 columns):\n",
      " #   Column                  Non-Null Count  Dtype  \n",
      "---  ------                  --------------  -----  \n",
      " 0   Case Number             2401 non-null   object \n",
      " 1   Date                    0 non-null      object \n",
      " 2   Year                    0 non-null      float64\n",
      " 3   Type                    0 non-null      object \n",
      " 4   Country                 0 non-null      object \n",
      " 5   Area                    0 non-null      object \n",
      " 6   Location                0 non-null      object \n",
      " 7   Activity                0 non-null      object \n",
      " 8   Name                    0 non-null      object \n",
      " 9   Sex                     0 non-null      object \n",
      " 10  Age                     0 non-null      object \n",
      " 11  Injury                  0 non-null      object \n",
      " 12  Fatal (Y/N)             0 non-null      object \n",
      " 13  Time                    0 non-null      object \n",
      " 14  Species                 0 non-null      object \n",
      " 15  Investigator or Source  0 non-null      object \n",
      " 16  pdf                     0 non-null      object \n",
      " 17  href formula            0 non-null      object \n",
      " 18  href                    0 non-null      object \n",
      " 19  Case Number.1           0 non-null      object \n",
      " 20  Case Number.2           0 non-null      object \n",
      " 21  original order          7 non-null      float64\n",
      "dtypes: float64(2), object(20)\n",
      "memory usage: 3.4+ MB\n"
     ]
    }
   ],
   "source": [
    "df_sharks[df_sharks['pdf'].isna()].info()\n",
    "df_sharks = df_sharks.dropna(subset=['pdf'])"
   ]
  },
  {
   "cell_type": "code",
   "execution_count": 4,
   "id": "6e58f2ea",
   "metadata": {
    "ExecuteTime": {
     "end_time": "2022-08-22T19:10:32.644243Z",
     "start_time": "2022-08-22T19:10:32.623051Z"
    }
   },
   "outputs": [],
   "source": [
    "novas_colunas = [re.sub('[\\. ]','_',colunas.lower().strip()) for colunas in df_sharks.columns]\n",
    "df_sharks.columns = novas_colunas\n",
    "df_sharks.loc[df_sharks['species'].isna()] = 'desconhecida'\n",
    "df_conhecidos = df_sharks[df_sharks['species'] != 'desconhecida']"
   ]
  },
  {
   "cell_type": "code",
   "execution_count": 29,
   "id": "ccedf701",
   "metadata": {
    "ExecuteTime": {
     "end_time": "2022-08-22T19:36:44.936264Z",
     "start_time": "2022-08-22T19:36:44.907552Z"
    }
   },
   "outputs": [
    {
     "name": "stderr",
     "output_type": "stream",
     "text": [
      "C:\\Users\\guilh\\AppData\\Local\\Temp\\ipykernel_1688\\4252504962.py:1: SettingWithCopyWarning: \n",
      "A value is trying to be set on a copy of a slice from a DataFrame.\n",
      "Try using .loc[row_indexer,col_indexer] = value instead\n",
      "\n",
      "See the caveats in the documentation: https://pandas.pydata.org/pandas-docs/stable/user_guide/indexing.html#returning-a-view-versus-a-copy\n",
      "  df_conhecidos['species'] = df_conhecidos['species'].str.lower()\n"
     ]
    }
   ],
   "source": [
    "df_conhecidos['species'] = df_conhecidos['species'].str.lower()\n",
    "lista_tipos = df_conhecidos['species'].str.findall('[A-z]+ shark')\n",
    "lista_tipos = [j for i in lista_tipos for j in i]\n",
    "lista_tipos = list(set(lista_tipos))"
   ]
  },
  {
   "cell_type": "code",
   "execution_count": 33,
   "id": "d8f268a6",
   "metadata": {
    "ExecuteTime": {
     "end_time": "2022-08-22T19:37:00.806273Z",
     "start_time": "2022-08-22T19:37:00.789236Z"
    }
   },
   "outputs": [
    {
     "data": {
      "text/plain": [
       "['] shark',\n",
       " 'a shark',\n",
       " 'angel shark',\n",
       " 'another shark',\n",
       " 'as shark',\n",
       " 'banjo shark',\n",
       " 'basking shark',\n",
       " 'believed shark',\n",
       " 'blackfin shark',\n",
       " 'blacktip shark',\n",
       " 'blue shark',\n",
       " 'bonita shark',\n",
       " 'bonito shark',\n",
       " 'bonnethed shark',\n",
       " 'brown shark',\n",
       " 'bull shark',\n",
       " 'but shark',\n",
       " 'captive shark',\n",
       " 'captured shark',\n",
       " 'carcharhinid shark',\n",
       " 'carcharinid shark',\n",
       " 'carpet shark',\n",
       " 'cocktail shark',\n",
       " 'colored shark',\n",
       " 'cookiecutter shark',\n",
       " 'copper shark',\n",
       " 'cow shark',\n",
       " 'cutter shark',\n",
       " 'dog shark',\n",
       " 'dogfish shark',\n",
       " 'dusky shark',\n",
       " 'female shark',\n",
       " 'finned shark',\n",
       " 'foot shark',\n",
       " 'for shark',\n",
       " 'from shark',\n",
       " 'gaffed shark',\n",
       " 'galapagos shark',\n",
       " 'gill shark',\n",
       " 'goblin shark',\n",
       " 'gray shark',\n",
       " 'grey shark',\n",
       " 'ground shark',\n",
       " 'hammerhead shark',\n",
       " 'hooked shark',\n",
       " 'jackson shark',\n",
       " 'juvenile shark',\n",
       " 'kg shark',\n",
       " 'large shark',\n",
       " 'larger shark',\n",
       " 'lb shark',\n",
       " 'lb] shark',\n",
       " 'lemon shark',\n",
       " 'leopard shark',\n",
       " 'little shark',\n",
       " 'm shark',\n",
       " 'mako shark',\n",
       " 'metre shark',\n",
       " 'no shark',\n",
       " 'nose shark',\n",
       " 'nosed shark',\n",
       " 'nurse shark',\n",
       " 'of shark',\n",
       " 'other shark',\n",
       " 'porbeagle shark',\n",
       " 'raggedtooth shark',\n",
       " 'red shark',\n",
       " 'reef shark',\n",
       " 'salmon shark',\n",
       " 'same shark',\n",
       " 'sand shark',\n",
       " 'sandbar shark',\n",
       " 'sandtiger shark',\n",
       " 'saw shark',\n",
       " 'sevengill shark',\n",
       " 'several shark',\n",
       " 'shovelnose shark',\n",
       " 'silky shark',\n",
       " 'silvertip shark',\n",
       " 'small shark',\n",
       " 'smoothhound shark',\n",
       " 'soupfin shark',\n",
       " 'spinner shark',\n",
       " 'the shark',\n",
       " 'thresher shark',\n",
       " 'tiger shark',\n",
       " 'tipped shark',\n",
       " 'two shark',\n",
       " 'unidentified shark',\n",
       " 'whale shark',\n",
       " 'whaler shark',\n",
       " 'whiptail shark',\n",
       " 'white shark',\n",
       " 'whitetip shark',\n",
       " 'wobbegong shark',\n",
       " 'young shark',\n",
       " 'zambesi shark',\n",
       " 'zambezi shark']"
      ]
     },
     "execution_count": 33,
     "metadata": {},
     "output_type": "execute_result"
    }
   ],
   "source": [
    "lista_tipos"
   ]
  },
  {
   "cell_type": "code",
   "execution_count": null,
   "id": "fb920642",
   "metadata": {},
   "outputs": [],
   "source": []
  }
 ],
 "metadata": {
  "kernelspec": {
   "display_name": "Python 3 (ipykernel)",
   "language": "python",
   "name": "python3"
  },
  "language_info": {
   "codemirror_mode": {
    "name": "ipython",
    "version": 3
   },
   "file_extension": ".py",
   "mimetype": "text/x-python",
   "name": "python",
   "nbconvert_exporter": "python",
   "pygments_lexer": "ipython3",
   "version": "3.9.12"
  },
  "toc": {
   "base_numbering": 1,
   "nav_menu": {},
   "number_sections": true,
   "sideBar": true,
   "skip_h1_title": false,
   "title_cell": "Table of Contents",
   "title_sidebar": "Contents",
   "toc_cell": false,
   "toc_position": {},
   "toc_section_display": true,
   "toc_window_display": false
  },
  "varInspector": {
   "cols": {
    "lenName": 16,
    "lenType": 16,
    "lenVar": 40
   },
   "kernels_config": {
    "python": {
     "delete_cmd_postfix": "",
     "delete_cmd_prefix": "del ",
     "library": "var_list.py",
     "varRefreshCmd": "print(var_dic_list())"
    },
    "r": {
     "delete_cmd_postfix": ") ",
     "delete_cmd_prefix": "rm(",
     "library": "var_list.r",
     "varRefreshCmd": "cat(var_dic_list()) "
    }
   },
   "types_to_exclude": [
    "module",
    "function",
    "builtin_function_or_method",
    "instance",
    "_Feature"
   ],
   "window_display": false
  }
 },
 "nbformat": 4,
 "nbformat_minor": 5
}
