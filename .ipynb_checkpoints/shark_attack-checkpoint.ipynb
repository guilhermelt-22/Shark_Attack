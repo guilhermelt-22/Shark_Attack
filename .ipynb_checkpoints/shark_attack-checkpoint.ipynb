{
 "cells": [
  {
   "cell_type": "code",
   "execution_count": 102,
   "id": "e13c4e7c",
   "metadata": {
    "ExecuteTime": {
     "end_time": "2022-08-22T13:16:39.536248Z",
     "start_time": "2022-08-22T13:16:39.531259Z"
    }
   },
   "outputs": [],
   "source": [
    "import pandas as pd\n",
    "import re"
   ]
  },
  {
   "cell_type": "code",
   "execution_count": 51,
   "id": "35beb5de",
   "metadata": {
    "ExecuteTime": {
     "end_time": "2022-08-22T12:43:31.522844Z",
     "start_time": "2022-08-22T12:43:31.425099Z"
    }
   },
   "outputs": [],
   "source": [
    "df_sharks = pd.read_csv('attacks.csv', encoding = \"cp1252\")\n",
    "df_sharks = df_sharks.drop(columns=['Unnamed: 22', 'Unnamed: 23'])"
   ]
  },
  {
   "cell_type": "code",
   "execution_count": 53,
   "id": "c890d062",
   "metadata": {
    "ExecuteTime": {
     "end_time": "2022-08-22T12:43:57.219859Z",
     "start_time": "2022-08-22T12:43:57.156031Z"
    }
   },
   "outputs": [
    {
     "name": "stdout",
     "output_type": "stream",
     "text": [
      "<class 'pandas.core.frame.DataFrame'>\n",
      "Int64Index: 19421 entries, 6302 to 25722\n",
      "Data columns (total 22 columns):\n",
      " #   Column                  Non-Null Count  Dtype  \n",
      "---  ------                  --------------  -----  \n",
      " 0   Case Number             2401 non-null   object \n",
      " 1   Date                    0 non-null      object \n",
      " 2   Year                    0 non-null      float64\n",
      " 3   Type                    0 non-null      object \n",
      " 4   Country                 0 non-null      object \n",
      " 5   Area                    0 non-null      object \n",
      " 6   Location                0 non-null      object \n",
      " 7   Activity                0 non-null      object \n",
      " 8   Name                    0 non-null      object \n",
      " 9   Sex                     0 non-null      object \n",
      " 10  Age                     0 non-null      object \n",
      " 11  Injury                  0 non-null      object \n",
      " 12  Fatal (Y/N)             0 non-null      object \n",
      " 13  Time                    0 non-null      object \n",
      " 14  Species                 0 non-null      object \n",
      " 15  Investigator or Source  0 non-null      object \n",
      " 16  pdf                     0 non-null      object \n",
      " 17  href formula            0 non-null      object \n",
      " 18  href                    0 non-null      object \n",
      " 19  Case Number.1           0 non-null      object \n",
      " 20  Case Number.2           0 non-null      object \n",
      " 21  original order          7 non-null      float64\n",
      "dtypes: float64(2), object(20)\n",
      "memory usage: 3.4+ MB\n"
     ]
    }
   ],
   "source": [
    "df_sharks[df_sharks['pdf'].isna()].info()\n",
    "df_sharks = df_sharks.dropna(subset=['pdf'])"
   ]
  },
  {
   "cell_type": "code",
   "execution_count": 128,
   "id": "6e58f2ea",
   "metadata": {
    "ExecuteTime": {
     "end_time": "2022-08-22T13:36:08.610794Z",
     "start_time": "2022-08-22T13:36:08.593840Z"
    }
   },
   "outputs": [],
   "source": [
    "novas_colunas = [re.sub('[\\. ]','_',colunas.lower().strip()) for colunas in df_sharks.columns]\n",
    "df_sharks.columns = novas_colunas\n",
    "df_sharks.loc[df_sharks['species'].isna()] = 'desconhecida'\n",
    "df_conhecidos = df_sharks[df_sharks['species'] != 'desconhecida']"
   ]
  },
  {
   "cell_type": "code",
   "execution_count": 139,
   "id": "ccedf701",
   "metadata": {
    "ExecuteTime": {
     "end_time": "2022-08-22T13:42:33.979432Z",
     "start_time": "2022-08-22T13:42:33.960451Z"
    }
   },
   "outputs": [
    {
     "data": {
      "text/plain": [
       "0                                             white shark\n",
       "3                                               2 m shark\n",
       "4                                         tiger shark, 3m\n",
       "6                                             tiger shark\n",
       "7                                         lemon shark, 3'\n",
       "                              ...                        \n",
       "6276                                      12' tiger shark\n",
       "6293                                         blue pointer\n",
       "6294                                         blue pointer\n",
       "6295                                        blue pointers\n",
       "6296    said to involve a grey nurse shark that leapt ...\n",
       "Name: species, Length: 3464, dtype: object"
      ]
     },
     "execution_count": 139,
     "metadata": {},
     "output_type": "execute_result"
    }
   ],
   "source": [
    "df_conhecidos['species'].str.lower()"
   ]
  },
  {
   "cell_type": "code",
   "execution_count": null,
   "id": "0a4768ed",
   "metadata": {},
   "outputs": [],
   "source": []
  }
 ],
 "metadata": {
  "kernelspec": {
   "display_name": "Python 3 (ipykernel)",
   "language": "python",
   "name": "python3"
  },
  "language_info": {
   "codemirror_mode": {
    "name": "ipython",
    "version": 3
   },
   "file_extension": ".py",
   "mimetype": "text/x-python",
   "name": "python",
   "nbconvert_exporter": "python",
   "pygments_lexer": "ipython3",
   "version": "3.9.12"
  },
  "toc": {
   "base_numbering": 1,
   "nav_menu": {},
   "number_sections": true,
   "sideBar": true,
   "skip_h1_title": false,
   "title_cell": "Table of Contents",
   "title_sidebar": "Contents",
   "toc_cell": false,
   "toc_position": {},
   "toc_section_display": true,
   "toc_window_display": false
  },
  "varInspector": {
   "cols": {
    "lenName": 16,
    "lenType": 16,
    "lenVar": 40
   },
   "kernels_config": {
    "python": {
     "delete_cmd_postfix": "",
     "delete_cmd_prefix": "del ",
     "library": "var_list.py",
     "varRefreshCmd": "print(var_dic_list())"
    },
    "r": {
     "delete_cmd_postfix": ") ",
     "delete_cmd_prefix": "rm(",
     "library": "var_list.r",
     "varRefreshCmd": "cat(var_dic_list()) "
    }
   },
   "types_to_exclude": [
    "module",
    "function",
    "builtin_function_or_method",
    "instance",
    "_Feature"
   ],
   "window_display": false
  }
 },
 "nbformat": 4,
 "nbformat_minor": 5
}
