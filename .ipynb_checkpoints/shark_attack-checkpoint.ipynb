{
 "cells": [
  {
   "cell_type": "code",
   "execution_count": null,
   "id": "e13c4e7c",
   "metadata": {
    "ExecuteTime": {
     "end_time": "2022-08-23T17:00:39.140081Z",
     "start_time": "2022-08-23T17:00:38.762718Z"
    }
   },
   "outputs": [],
   "source": [
    "#bibliotecas utilizadas\n",
    "import pandas as pd\n",
    "import re"
   ]
  },
  {
   "cell_type": "code",
   "execution_count": null,
   "id": "35beb5de",
   "metadata": {
    "ExecuteTime": {
     "end_time": "2022-08-23T17:00:39.233871Z",
     "start_time": "2022-08-23T17:00:39.141045Z"
    }
   },
   "outputs": [],
   "source": [
    "#arquivo para limpeza utilizado\n",
    "df_sharks = pd.read_csv('attacks.csv', encoding=\"cp1252\")\n",
    "#remoção de colunas desnecessárias\n",
    "df_sharks = df_sharks.drop(columns=['Unnamed: 22', 'Unnamed: 23'])"
   ]
  },
  {
   "cell_type": "code",
   "execution_count": null,
   "id": "c890d062",
   "metadata": {
    "ExecuteTime": {
     "end_time": "2022-08-23T17:00:39.313746Z",
     "start_time": "2022-08-23T17:00:39.234891Z"
    }
   },
   "outputs": [],
   "source": [
    "#obtendo info sobre o arquivo\n",
    "df_sharks[df_sharks['pdf'].isna()].info()\n",
    "#removendo linhas sem o pdf\n",
    "df_sharks = df_sharks.dropna(subset=['pdf'])"
   ]
  },
  {
   "cell_type": "code",
   "execution_count": null,
   "id": "6e58f2ea",
   "metadata": {
    "ExecuteTime": {
     "end_time": "2022-08-23T17:00:39.329756Z",
     "start_time": "2022-08-23T17:00:39.314743Z"
    }
   },
   "outputs": [],
   "source": [
    "#ajustando as colunas \n",
    "novas_colunas = [\n",
    "    re.sub('[\\. ]', '_',\n",
    "           colunas.lower().strip()) for colunas in df_sharks.columns\n",
    "]\n",
    "#atribuindo novas colunas\n",
    "df_sharks.columns = novas_colunas\n",
    "#removendo as linhas sem informação de espécies\n",
    "df_sharks.loc[df_sharks['species'].isna()] = 'desconhecida'\n",
    "df_conhecidos = df_sharks[df_sharks['species'] != 'desconhecida']"
   ]
  },
  {
   "cell_type": "code",
   "execution_count": null,
   "id": "ccedf701",
   "metadata": {
    "ExecuteTime": {
     "end_time": "2022-08-23T17:00:39.737329Z",
     "start_time": "2022-08-23T17:00:39.330281Z"
    }
   },
   "outputs": [],
   "source": [
    "#transformando todas as espécies em lowercase\n",
    "df_conhecidos['species'] = df_conhecidos['species'].str.lower()\n",
    "#obtendo a lista de tubarões para criar um dicionário mais uniforme\n",
    "lista_tipos = df_conhecidos['species'].str.findall(\n",
    "    '[A-z]+ shark|blue pointer|wobbegong|bronze whaler')\n",
    "lista_tipos = [j for i in lista_tipos for j in i]\n",
    "lista_tipos = list(set(lista_tipos))"
   ]
  },
  {
   "cell_type": "code",
   "execution_count": null,
   "id": "f542e4c2",
   "metadata": {
    "ExecuteTime": {
     "end_time": "2022-08-23T17:00:39.753422Z",
     "start_time": "2022-08-23T17:00:39.738307Z"
    }
   },
   "outputs": [],
   "source": [
    "#dicionário de termos para realizar substituições no dataframe\n",
    "dict_tipos = {\n",
    "    'saw shark': 'saw_shark',\n",
    "    'same shark': 'desconhecida',\n",
    "    'wobbegong': 'wobbegong_shark',\n",
    "    'lemon shark': 'lemon_shark',\n",
    "    'little shark': 'desconhecida',\n",
    "    'm +shark': 'desconhecida',\n",
    "    'hooked shark': 'desconhecida',\n",
    "    'bull shark': 'bull_shark',\n",
    "    'galapagos shark': 'galapagos_shark',\n",
    "    'blue shark': 'blue_shark',\n",
    "    'copper shark': 'copper_shark',\n",
    "    'small shark': 'desconhecida',\n",
    "    'cutter shark': 'cookiecutter_shark',\n",
    "    'juvenile shark': 'desconhecida',\n",
    "    'zambezi shark': 'bull_shark',\n",
    "    'reef shark': 'reef_shark',\n",
    "    'raggedtooth shark': 'sand_tiger_shark',\n",
    "    'of shark': 'desconhecida',\n",
    "    'grey shark': 'grey_reef_shark',\n",
    "    'young shark': 'desconhecida',\n",
    "    'as shark': 'desconhecida',\n",
    "    'blacktip': 'blacktip_shark',\n",
    "    'cow shark': 'cow_shark',\n",
    "    'metre shark': 'desconhecida',\n",
    "    'blue pointer': 'mako_shark',\n",
    "    'large shark': 'desconhecida',\n",
    "    'nose shark': 'blacknose_shark',\n",
    "    'ground shark': 'ground_shark',\n",
    "    'salmon shark': 'salmon_shark',\n",
    "    'bonita shark': 'mako_shark',\n",
    "    'jackson shark': 'port_jackson_shark',\n",
    "    'no shark': 'desconhecida',\n",
    "    'the shark': 'desconhecida',\n",
    "    'bonito shark': 'mako_shark',\n",
    "    'goblin shark': 'goblin_shark',\n",
    "    'tipped shark': 'blacktip_shark',\n",
    "    'tiger shark': 'tiger_shark',\n",
    "    'brown shark': 'sandbar_shark',\n",
    "    'finned shark': 'desconhecida',\n",
    "    'smoothhound shark': 'smoothhound_shark',\n",
    "    'thresher shark': 'thresher_shark',\n",
    "    'carcharinid shark': 'carcharhinus_shark',\n",
    "    'colored shark': 'desconhecida',\n",
    "    'other shark': 'desconhecida',\n",
    "    'but shark': 'desconhecida',\n",
    "    'bonnethed shark': 'bonnethead_shark',\n",
    "    'two shark': 'desconhecida',\n",
    "    'kg shark': 'desconhecida',\n",
    "    'captured shark': 'desconhecida',\n",
    "    'hammerhead': 'hammerhead_shark',\n",
    "    'sand': 'sand_tiger_shark',\n",
    "    'another shark': 'desconhecida',\n",
    "    'blackfin': 'blacktip_shark',\n",
    "    'silky shark': 'grey_whaler_shark',\n",
    "    'sevengill': 'broadnose_sevengill_shark',\n",
    "    'gaffed shark': 'desconhecida',\n",
    "    'lb] shark': 'deconhecida',\n",
    "    'angel shark': 'angel_sharks',\n",
    "    'captive shark': 'desconhecida',\n",
    "    'gill shark': 'cow_shark',\n",
    "    'dog shark': 'dog_shark',\n",
    "    'sandtiger shark': 'sand_tiger_sharks',\n",
    "    'larger shark': 'desconhecida',\n",
    "    'white shark': 'white_shark',\n",
    "    'whale shark': 'whale_shark',\n",
    "    'soupfin shark': 'soupfin_shark',\n",
    "    'sandbar shark': 'sandbar_shark',\n",
    "    'carpet shark': 'wobbegong_shark',\n",
    "    'shovelnose': 'raia',\n",
    "    'banjo shark': 'raia',\n",
    "    'spinner shark': 'spinner_shark',\n",
    "    'whiptail shark': 'thresher_sharks',\n",
    "    'lb shark': 'desconhecida',\n",
    "    'foot shark': 'desconhecida',\n",
    "    'for shark': 'desconhecida',\n",
    "    'female shark': 'desconhecida',\n",
    "    'unidentified shark': 'desconhecida',\n",
    "    'porbeagle shark': 'porbeagle_shark',\n",
    "    'leopard shark': 'tiger_shark',\n",
    "    'mako shark': 'mako_shark',\n",
    "    'nurse shark': 'nurse_shark',\n",
    "    'several shark': 'desconhecida',\n",
    "    'red shark': 'desconhecida',\n",
    "    'nosed shark': 'desconhecida',\n",
    "    'believed shark': 'desconhecida',\n",
    "    'dogfish': 'dogfish_shark',\n",
    "    'cookiecutter shark': 'cookiecutter_shark',\n",
    "    '] shark': 'desconhecida',\n",
    "    'zambesi shark': 'bull_shark',\n",
    "    'basking shark': 'basking_shark',\n",
    "    'from shark': 'desconhecida',\n",
    "    'gray shark': 'grey_reef_shark',\n",
    "    'a shark': 'desconhecida',\n",
    "    'whitetip': 'whitetip_shark',\n",
    "    'dusky shark': 'dusky_shark',\n",
    "    'cocktail shark': 'desconhecida',\n",
    "    'silvertip shark': 'silvertip_shark',\n",
    "    'whaler': 'copper_shark',\n",
    "    'carcharhinid shark': 'carcharhinus_shark',\n",
    "    'spurdog': 'dog_shark',\n",
    "    'catshark': 'ground_shark',\n",
    "    'stingray': 'raia',\n",
    "    'black tipped': 'blacktip_shark',\n",
    "    'sandshark': 'sand_tiger_shark',\n",
    "    'not confirmed': 'desconhecida',\n",
    "    'invalid incident': 'desconhecida',\n",
    "    'albimarginatus': 'silvertip_shark',\n",
    "    'unconfirmed': 'desconhecida',\n",
    "    'unidentified': 'desconhecida',\n",
    "    'unconfired': 'desconhecida',\n",
    "    'not be determined': 'desconhecida',\n",
    "    'gummy': 'gummy_shark',\n",
    "    'questionable': 'desconhecida',\n",
    "    'c. gangeticus': 'crocolido',\n",
    "    'obscurus': 'dusky_shark',\n",
    "    'leucas': 'bull_shark',\n",
    "    'doubtful': 'desconhecida',\n",
    "    'horn': 'horn_shark',\n",
    "    'spear-eye': 'speartooth_shark'\n",
    "}"
   ]
  },
  {
   "cell_type": "code",
   "execution_count": null,
   "id": "2a1b23ae",
   "metadata": {
    "ExecuteTime": {
     "end_time": "2022-08-23T17:00:39.926186Z",
     "start_time": "2022-08-23T17:00:39.754462Z"
    }
   },
   "outputs": [],
   "source": [
    "#colocando as informação no dataframe\n",
    "for key, value in dict_tipos.items():\n",
    "    df_conhecidos.loc[df_conhecidos['species'].str.contains(key),\n",
    "                      'species'] = value"
   ]
  },
  {
   "cell_type": "code",
   "execution_count": null,
   "id": "07992026",
   "metadata": {
    "ExecuteTime": {
     "end_time": "2022-08-23T17:00:39.940951Z",
     "start_time": "2022-08-23T17:00:39.926989Z"
    }
   },
   "outputs": [],
   "source": [
    "#verificação de tipos passaram o filtro\n",
    "df_conhecidos.loc[~(df_conhecidos['species'].str.contains('\\w+_shark')),\n",
    "                  'species'].unique()"
   ]
  },
  {
   "cell_type": "code",
   "execution_count": null,
   "id": "8d8e914d",
   "metadata": {
    "ExecuteTime": {
     "end_time": "2022-08-23T17:00:39.956933Z",
     "start_time": "2022-08-23T17:00:39.942947Z"
    }
   },
   "outputs": [],
   "source": [
    "#realizando uma nova limpeza dos tipos desconhecidos \n",
    "df_conhecidos.loc[~(df_conhecidos['species'].str.contains('\\w+_shark')),\n",
    "                  'species'] = 'desconhecida'\n",
    "df_conhecidos = df_conhecidos[df_conhecidos['species'] != 'desconhecida']"
   ]
  },
  {
   "cell_type": "code",
   "execution_count": null,
   "id": "601f0701",
   "metadata": {
    "ExecuteTime": {
     "end_time": "2022-08-23T17:00:39.972673Z",
     "start_time": "2022-08-23T17:00:39.957931Z"
    }
   },
   "outputs": [],
   "source": [
    "#observando a coluna de fatalidades \n",
    "df_conhecidos['fatal_(y/n)'].value_counts()"
   ]
  },
  {
   "cell_type": "code",
   "execution_count": null,
   "id": "018342a1",
   "metadata": {
    "ExecuteTime": {
     "end_time": "2022-08-23T17:00:40.004688Z",
     "start_time": "2022-08-23T17:00:39.979614Z"
    }
   },
   "outputs": [],
   "source": [
    "#substituindo por valore válidos \n",
    "df_conhecidos.loc[df_conhecidos['fatal_(y/n)'] == ' N', 'fatal_(y/n)'] = 'N'\n",
    "df_conhecidos.loc[df_conhecidos['fatal_(y/n)'] == 'M',\n",
    "                  'fatal_(y/n)'] = 'UNKNOWN'\n",
    "df_conhecidos.loc[df_conhecidos['fatal_(y/n)'] == '2017',\n",
    "                  'fatal_(y/n)'] = 'UNKNOWN'"
   ]
  },
  {
   "cell_type": "code",
   "execution_count": null,
   "id": "017d1c5d",
   "metadata": {
    "ExecuteTime": {
     "end_time": "2022-08-23T17:01:53.379399Z",
     "start_time": "2022-08-23T17:01:53.348483Z"
    }
   },
   "outputs": [],
   "source": [
    "#construção de um novo df com as espécies e os ocorridos \n",
    "df_agressivo = pd.pivot_table(df_conhecidos,\n",
    "                              index='species',\n",
    "                              columns='fatal_(y/n)',\n",
    "                              values='case_number',\n",
    "                              aggfunc='count',\n",
    "                              fill_value=0,\n",
    "                              margins=True )"
   ]
  },
  {
   "cell_type": "code",
   "execution_count": null,
   "id": "38709e40",
   "metadata": {
    "ExecuteTime": {
     "end_time": "2022-08-23T17:01:58.765258Z",
     "start_time": "2022-08-23T17:01:58.749327Z"
    }
   },
   "outputs": [],
   "source": [
    "#oraganizando a tabela por numeros de ocorrências \n",
    "df_agressivo.sort_values('All', ascending=False, inplace=True)\n",
    "#criando uma coluna para analisar as mortalidades dos ataques\n",
    "df_agressivo['Mortalidade'] = df_agressivo['Y'] / df_agressivo['All']"
   ]
  },
  {
   "cell_type": "code",
   "execution_count": null,
   "id": "79f02f77",
   "metadata": {
    "ExecuteTime": {
     "end_time": "2022-08-23T17:02:00.918574Z",
     "start_time": "2022-08-23T17:02:00.894972Z"
    }
   },
   "outputs": [],
   "source": [
    "#dataframe pronto\n",
    "df_agressivo"
   ]
  },
  {
   "cell_type": "code",
   "execution_count": null,
   "id": "6800ff2e",
   "metadata": {},
   "outputs": [],
   "source": []
  }
 ],
 "metadata": {
  "kernelspec": {
   "display_name": "Python 3 (ipykernel)",
   "language": "python",
   "name": "python3"
  },
  "language_info": {
   "codemirror_mode": {
    "name": "ipython",
    "version": 3
   },
   "file_extension": ".py",
   "mimetype": "text/x-python",
   "name": "python",
   "nbconvert_exporter": "python",
   "pygments_lexer": "ipython3",
   "version": "3.9.12"
  },
  "toc": {
   "base_numbering": 1,
   "nav_menu": {},
   "number_sections": true,
   "sideBar": true,
   "skip_h1_title": false,
   "title_cell": "Table of Contents",
   "title_sidebar": "Contents",
   "toc_cell": false,
   "toc_position": {},
   "toc_section_display": true,
   "toc_window_display": false
  },
  "varInspector": {
   "cols": {
    "lenName": 16,
    "lenType": 16,
    "lenVar": 40
   },
   "kernels_config": {
    "python": {
     "delete_cmd_postfix": "",
     "delete_cmd_prefix": "del ",
     "library": "var_list.py",
     "varRefreshCmd": "print(var_dic_list())"
    },
    "r": {
     "delete_cmd_postfix": ") ",
     "delete_cmd_prefix": "rm(",
     "library": "var_list.r",
     "varRefreshCmd": "cat(var_dic_list()) "
    }
   },
   "types_to_exclude": [
    "module",
    "function",
    "builtin_function_or_method",
    "instance",
    "_Feature"
   ],
   "window_display": false
  }
 },
 "nbformat": 4,
 "nbformat_minor": 5
}
